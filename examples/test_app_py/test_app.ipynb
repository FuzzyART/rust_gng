{
 "cells": [
  {
   "cell_type": "code",
   "execution_count": null,
   "id": "f439e15c",
   "metadata": {},
   "outputs": [],
   "source": [
    "input_file = \"/tmp/circles.csv\"                         \n",
    "config_file = \"../config.json\""
   ]
  },
  {
   "cell_type": "code",
   "execution_count": null,
   "id": "36464bd3",
   "metadata": {},
   "outputs": [],
   "source": [
    "import sys,os,ctypes\n",
    "from pathlib import Path\n",
    "\n",
    "notebook_dir = os.getcwd()\n",
    "lib_path = os.path.join(notebook_dir,\"../gng_py_lib/target/release\")\n",
    "sys.path.insert(0,os.path.abspath(lib_path))\n",
    "print(lib_path)\n",
    "\n",
    "import gng_py\n",
    "\n",
    "\n",
    "import numpy as np\n",
    "import pandas as pd\n",
    "import time"
   ]
  },
  {
   "cell_type": "code",
   "execution_count": null,
   "id": "e13f1ac6",
   "metadata": {},
   "outputs": [],
   "source": [
    "in_set = pd.read_csv(input_file)\n",
    "in_set = in_set.to_numpy().flatten()"
   ]
  },
  {
   "cell_type": "code",
   "execution_count": null,
   "id": "de663090",
   "metadata": {},
   "outputs": [],
   "source": [
    "ctx = gng_py.PyContext()\n",
    "ctx = gng_py.PyContext()\n",
    "ctx.load_config(config_file)\n",
    "ctx.init_dataset_vec(in_set)\n",
    "start = time.time()\n",
    "ctx.fit()\n",
    "end = time.time()\n",
    "model_string = ctx.get_model_string()\n",
    "print(end-start)"
   ]
  },
  {
   "cell_type": "code",
   "execution_count": null,
   "id": "83236944",
   "metadata": {},
   "outputs": [],
   "source": [
    "import sys,os\n",
    "import matplotlib.pyplot as plt\n",
    "import json"
   ]
  },
  {
   "cell_type": "code",
   "execution_count": null,
   "id": "883617f3",
   "metadata": {},
   "outputs": [],
   "source": [
    "data = json.loads(model_string)"
   ]
  },
  {
   "cell_type": "code",
   "execution_count": null,
   "id": "52f19237",
   "metadata": {},
   "outputs": [],
   "source": [
    "points = None\n",
    "edges = None\n",
    "edge_positions = None\n",
    "rows = []\n",
    "for neuron in data[\"model\"][\"neurons\"]:\n",
    "    position = neuron[\"position\"]\n",
    "    id = neuron['id']\n",
    "    x = position[0]\n",
    "    y = position[1]\n",
    "    rows.append({\"id\": id, \"x\": x, \"y\": y})\n",
    "\n",
    "points = pd.DataFrame(rows)\n",
    "\n",
    "# Extract edges\n",
    "row_edge = []\n",
    "for edge in data['model']['edges']:\n",
    "    edge_from = edge['from']\n",
    "    edge_to = edge['to']\n",
    "    row_edge.append({\"start\": edge_from, \"to\": edge_to})\n",
    "\n",
    "edges = pd.DataFrame(row_edge)\n",
    "\n",
    "# Calculate edge positions\n",
    "row = []\n",
    "for _, row_edge in edges.iterrows():\n",
    "    try:\n",
    "        row_from = points.loc[points['id'] == row_edge['start']].iloc[0]\n",
    "        x_from = float(row_from['x'])\n",
    "        y_from = float(row_from['y'])\n",
    "        row_to = points.loc[points['id'] == row_edge['to']].iloc[0]\n",
    "        x_to = float(row_to['x'])\n",
    "        y_to = float(row_to['y'])\n",
    "\n",
    "        row.append({\"x_from\": x_from, \"y_from\": y_from, \"x_to\": x_to, \"y_to\": y_to})\n",
    "    except (IndexError, KeyError):\n",
    "        continue\n",
    "\n",
    "edge_positions = pd.DataFrame(row)\n",
    "import matplotlib.pyplot as plt\n",
    "plot = plt.figure()\n",
    "ax = plot.add_subplot(111)\n",
    "\n",
    "ax.clear()\n",
    "\n",
    "# Plot points\n",
    "ax.scatter(points['x'], points['y'])\n",
    "\n",
    "# Plot connections\n",
    "for _, row in edges.iterrows():\n",
    "    row_from = points.loc[points['id'] == row['start']].iloc[0]\n",
    "    x_from = float(row_from['x'])\n",
    "    y_from = float(row_from['y'])\n",
    "    row_to = points.loc[points['id'] == row['to']].iloc[0]\n",
    "    x_to = float(row_to['x'])\n",
    "    y_to = float(row_to['y'])\n",
    "\n",
    "    ax.plot([x_from, x_to], [y_from, y_to], 'k-', alpha=0.6)\n"
   ]
  },
  {
   "cell_type": "code",
   "execution_count": null,
   "id": "814ba6a7",
   "metadata": {},
   "outputs": [],
   "source": [
    "\n"
   ]
  },
  {
   "cell_type": "code",
   "execution_count": null,
   "id": "cbb835f0",
   "metadata": {},
   "outputs": [],
   "source": []
  }
 ],
 "metadata": {
  "kernelspec": {
   "display_name": ".venv",
   "language": "python",
   "name": "python3"
  },
  "language_info": {
   "codemirror_mode": {
    "name": "ipython",
    "version": 3
   },
   "file_extension": ".py",
   "mimetype": "text/x-python",
   "name": "python",
   "nbconvert_exporter": "python",
   "pygments_lexer": "ipython3",
   "version": "3.12.9"
  }
 },
 "nbformat": 4,
 "nbformat_minor": 5
}
